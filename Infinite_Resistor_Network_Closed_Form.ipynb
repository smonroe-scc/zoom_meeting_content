{
 "cells": [
  {
   "cell_type": "code",
   "execution_count": 1,
   "metadata": {},
   "outputs": [
    {
     "name": "stdout",
     "output_type": "stream",
     "text": [
      "Author        : sm626967\n",
      "Python        : 3.8.3 \n",
      "NumPy         : 1.18.5\n",
      "Encoding      : utf-8\n",
      "Timestamp     : 1603031964.6190684\n"
     ]
    }
   ],
   "source": [
    "%run ./py_templates/numeric.py"
   ]
  },
  {
   "cell_type": "markdown",
   "metadata": {},
   "source": [
    "<img src=\"resistor_ladder_network_infinite.JPG\" alt=\"PLOT MISSING\" width=\"1024\" height=\"768\"> "
   ]
  },
  {
   "cell_type": "markdown",
   "metadata": {},
   "source": [
    "Since the network extends to $\\infty$, we can consider that all the network after the first pair of resistors is equivalent to $R_T$.  This means that we have a network with $R_1$ in series with an $R_2$ and $R_T$ parallel combination, which in turn is in series with another $R_1$."
   ]
  },
  {
   "cell_type": "markdown",
   "metadata": {},
   "source": [
    "$\\therefore$ <br><br>\n",
    "$$\\frac{1}{R_{T,2}}=\\frac{1}{R_2}+\\frac{1}{R_T}$$<br><br>\n",
    "$$R_{T,2}=\\frac{R_T R_2}{R_T+R2}$$<br><br>\n",
    "$$R_T=2R_1+RT,2$$<br><br>\n",
    "$$2R_1+\\frac{R_T R_2}{R_T+R2}$$<br><br>\n",
    "$$R_2 R_T+R_T^2=2R_1R_2+2R1R_T+R_2R_T$$<br><br>\n",
    "$$R_T^2=2R_1R_T-2R_1R_2=0$$<br><br>\n"
   ]
  },
  {
   "cell_type": "markdown",
   "metadata": {},
   "source": [
    "Which can be rewritten as ..."
   ]
  },
  {
   "cell_type": "markdown",
   "metadata": {},
   "source": [
    "$$2R_1 \\pm \\sqrt{\\frac{4R_1^2+ 8R_1R_2}{2}}$$"
   ]
  },
  {
   "cell_type": "markdown",
   "metadata": {},
   "source": [
    "Which means that the soluion is quadratic and has two answers.  One of these will not make any sense physically though, since there is no such thing as \"negative resistance\""
   ]
  },
  {
   "cell_type": "markdown",
   "metadata": {},
   "source": [
    "This means we can reduce this down to only the positive case:"
   ]
  },
  {
   "cell_type": "markdown",
   "metadata": {},
   "source": [
    "$$2R_1 + \\sqrt{\\frac{4R_1^2+ 8R_1R_2}{2}}$$"
   ]
  },
  {
   "cell_type": "markdown",
   "metadata": {},
   "source": [
    "$$R_T=R_1+\\sqrt{R_1^2+2R_1R_2}$$"
   ]
  },
  {
   "cell_type": "code",
   "execution_count": 2,
   "metadata": {},
   "outputs": [
    {
     "name": "stdout",
     "output_type": "stream",
     "text": [
      "RT: 2.73205 ... Ω\n"
     ]
    }
   ],
   "source": [
    "R1=1.0 # Problem statement stipulated R1 was 1 ohm, but it could be anything we choose.\n",
    "R2=1.0 # Problem statement stipulated R2 was 1 ohm, but it could be anything we choose.\n",
    "RT=R1+sqrt(R2**2+2*R1*R2)\n",
    "print(\"RT:\",'{0:.5f}'.format(RT),\"...\",u'\\u03A9')"
   ]
  }
 ],
 "metadata": {
  "kernelspec": {
   "display_name": "Python 3",
   "language": "python",
   "name": "python3"
  },
  "language_info": {
   "codemirror_mode": {
    "name": "ipython",
    "version": 3
   },
   "file_extension": ".py",
   "mimetype": "text/x-python",
   "name": "python",
   "nbconvert_exporter": "python",
   "pygments_lexer": "ipython3",
   "version": "3.8.3"
  }
 },
 "nbformat": 4,
 "nbformat_minor": 4
}
