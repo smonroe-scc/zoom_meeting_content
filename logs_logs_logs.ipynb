{
 "cells": [
  {
   "cell_type": "code",
   "execution_count": 1,
   "metadata": {},
   "outputs": [
    {
     "name": "stdout",
     "output_type": "stream",
     "text": [
      "Author        : sm626967\n",
      "Python        : 3.7.4 \n",
      "NumPy         : 1.18.1\n",
      "Encoding      : utf-8\n",
      "Timestamp     : 1595194353.331893\n"
     ]
    }
   ],
   "source": [
    "%run ./py_templates/1_boilerplate_numeric.py"
   ]
  },
  {
   "cell_type": "markdown",
   "metadata": {},
   "source": [
    "# Log and Antilog"
   ]
  },
  {
   "cell_type": "markdown",
   "metadata": {},
   "source": [
    "This is intended for those who have had logarithms in high school but high school was a long time ago, or for those who never had this and need an introduction.<br><br>\n",
    "This isn't intended to be exhaustive.  It is merely an introduction to getting functional with logarithms.  Practicality and utility rather than theoretical detail is the goal.<br><br>\n",
    "Before we go to far, let's define what a logarithm is.  Rather than wade through pages of theoretical discussion(s) I think an example will be quite helpful.  Look at this:"
   ]
  },
  {
   "cell_type": "markdown",
   "metadata": {},
   "source": [
    "$$log_{10}(100)=2$$"
   ]
  },
  {
   "cell_type": "markdown",
   "metadata": {},
   "source": [
    "Try it on your calculator: On the hp prime its<br><br>\n",
    "    <code>100 ENTER</code><br><br>\n",
    "    <code>LOG</code><br><br>\n",
    "    The <code>LOG</code> key is located just above the <code>ENTER</code> key."
   ]
  },
  {
   "cell_type": "code",
   "execution_count": 2,
   "metadata": {},
   "outputs": [
    {
     "name": "stdout",
     "output_type": "stream",
     "text": [
      "2.00\n"
     ]
    }
   ],
   "source": [
    "y=np.log10(100)\n",
    "print('{0:.2f}'.format(y))"
   ]
  },
  {
   "cell_type": "markdown",
   "metadata": {},
   "source": [
    "Now what happened here? What exactly is a logarithm?"
   ]
  },
  {
   "cell_type": "markdown",
   "metadata": {},
   "source": [
    "To find out we need to define some terms:\n",
    "    <br><br>\n",
    "Notice the subscripted 10 after the word <code>LOG</code><br><br>\n",
    "This is referred to as either the \"Base\" of the logarithm or the \"Radix\" of the logarithm.  I will refer to the base by using the symbol <code>b</code>\n",
    "Next we have what is called the \"argument\" of the logarithm. In the case above, the number <code>100</code> is the argument. I will refer to the argument by using the symbol <code>arg</code><br><br>\n",
    "Finally, we have what is called the \"result\" of the logarithm. In the case above, the number <code>2</code> is the argument. I will refer to the result by using the symbol <code>ans</code><br><br>"
   ]
  },
  {
   "cell_type": "markdown",
   "metadata": {},
   "source": [
    "Notice that, <br><br>\n",
    "$$b^{ans}=arg$$"
   ]
  },
  {
   "cell_type": "markdown",
   "metadata": {},
   "source": [
    "So if I do this,"
   ]
  },
  {
   "cell_type": "code",
   "execution_count": 3,
   "metadata": {},
   "outputs": [
    {
     "name": "stdout",
     "output_type": "stream",
     "text": [
      "100.00\n"
     ]
    }
   ],
   "source": [
    "b=10\n",
    "ans=2\n",
    "arg=b**ans\n",
    "print('{0:.2f}'.format(arg))"
   ]
  },
  {
   "cell_type": "markdown",
   "metadata": {},
   "source": [
    "You can do this on your hp prime.\n",
    "Press <code>2</code><br><br>\n",
    "Then <code>ENTER</code><br><br>\n",
    "Then <code>SHIFT</code><br><br>\n",
    "Then $10^x$.  This is under the <code>LOG</code>key."
   ]
  },
  {
   "cell_type": "markdown",
   "metadata": {},
   "source": [
    "When we calculated <code>100 ENTER</code><br><br>\n",
    "    <code>LOG</code><br><br>\n",
    "    "
   ]
  },
  {
   "cell_type": "markdown",
   "metadata": {},
   "source": [
    "We calculated the base 10 logarithm of 100. When we used the $10^x$ key above we calculated the base 10 antilog of 2."
   ]
  },
  {
   "cell_type": "markdown",
   "metadata": {},
   "source": [
    "Now you could do the same thing with ln.  What will change is the base.  In fact when we move from one logarithm to another, really the only thing that actually changes is the base.  Everything else ... mechanically ... stays the same."
   ]
  },
  {
   "cell_type": "markdown",
   "metadata": {},
   "source": [
    "In the case of ln (Latin: <i>logarithmus naturali</i> ) the base is not 10, but instead is $e$."
   ]
  },
  {
   "cell_type": "markdown",
   "metadata": {},
   "source": [
    "From a separate notebook I showed how we arrive at $e$, and that it has a value of $2.718281828459045201125521636727...$.  If we calculate the logarithm for 100 but do so using the base $e$ logarithm, the answer is:"
   ]
  },
  {
   "cell_type": "code",
   "execution_count": 4,
   "metadata": {},
   "outputs": [
    {
     "name": "stdout",
     "output_type": "stream",
     "text": [
      "4.60517018598809180219\n"
     ]
    }
   ],
   "source": [
    "nat=np.log(100)\n",
    "print('{0:.20f}'.format(nat))"
   ]
  },
  {
   "cell_type": "markdown",
   "metadata": {},
   "source": [
    "Meaning: "
   ]
  },
  {
   "cell_type": "markdown",
   "metadata": {},
   "source": [
    "$$e^{4.605170185988092...}\\quad \\quad =100$$"
   ]
  },
  {
   "cell_type": "markdown",
   "metadata": {},
   "source": [
    "Try it on your calculator: On the hp prime its<br><br>\n",
    "    <code>100 ENTER</code><br><br>\n",
    "    <code>LN</code><br><br>\n",
    "    The <code>LN</code> key is located just above the <code>ENTER</code> key."
   ]
  },
  {
   "cell_type": "markdown",
   "metadata": {},
   "source": [
    "We can calculate the antilog of $4.605170185988092...$ by doing this:"
   ]
  },
  {
   "cell_type": "code",
   "execution_count": 5,
   "metadata": {},
   "outputs": [
    {
     "name": "stdout",
     "output_type": "stream",
     "text": [
      "100.00\n"
     ]
    }
   ],
   "source": [
    "z=exp(4.605170185988092)\n",
    "print('{0:.2f}'.format(z))"
   ]
  },
  {
   "cell_type": "markdown",
   "metadata": {},
   "source": [
    "You can execute the exp (natural antilog) by pressing\n",
    "You can do this on your hp prime.\n",
    "Enter <code>4.60517018598809180219</code><br><br>\n",
    "Then <code>ENTER</code><br><br>\n",
    "Then <code>SHIFT</code><br><br>\n",
    "Then $e^x$.  This is under the <code>LN</code>key."
   ]
  },
  {
   "cell_type": "markdown",
   "metadata": {},
   "source": [
    "Suppose, I want to calculate the base 2 log of say 64, but don't have a base 2 log function on my calculator, which indeed, the hp prime does not have.  This means I have to execute what is known as a \"change of base\" calculation:<br><br>\n",
    "$$log _{b}x={\\frac {\\log _{10}x}{\\log _{10}b}}={\\frac {\\log _{e}x}{\\log _{e}b}}$$"
   ]
  },
  {
   "cell_type": "markdown",
   "metadata": {},
   "source": [
    "Notice that above, it DOES NOT MATTER if you use base 10 or base e to change base.  The only thing that matters is that you enter the formula correctly and consistently."
   ]
  },
  {
   "cell_type": "markdown",
   "metadata": {},
   "source": [
    "So I want to take the base 2 log of 64.  If I choose to use the natural log, I would do this:"
   ]
  },
  {
   "cell_type": "code",
   "execution_count": 6,
   "metadata": {},
   "outputs": [
    {
     "name": "stdout",
     "output_type": "stream",
     "text": [
      "6.00\n"
     ]
    }
   ],
   "source": [
    "numerator=np.log(64) # natural log of 64\n",
    "denominator=np.log(2) # natural log of 2\n",
    "base2ans=numerator/denominator\n",
    "print('{0:.2f}'.format(base2ans))"
   ]
  },
  {
   "cell_type": "markdown",
   "metadata": {},
   "source": [
    "We can check this by taking the antilog:"
   ]
  },
  {
   "cell_type": "code",
   "execution_count": 7,
   "metadata": {},
   "outputs": [
    {
     "name": "stdout",
     "output_type": "stream",
     "text": [
      "64.00\n"
     ]
    }
   ],
   "source": [
    "base=2\n",
    "ans=6\n",
    "arg=base**ans\n",
    "print('{0:.2f}'.format(arg))"
   ]
  },
  {
   "cell_type": "markdown",
   "metadata": {},
   "source": [
    "Because $$2^6=64$$"
   ]
  },
  {
   "cell_type": "markdown",
   "metadata": {},
   "source": [
    "But what if it isn't a \"convenient value\" ... like suppose I wanna take the base 3 log of 432."
   ]
  },
  {
   "cell_type": "markdown",
   "metadata": {},
   "source": [
    "Same rule applies:"
   ]
  },
  {
   "cell_type": "code",
   "execution_count": 8,
   "metadata": {},
   "outputs": [
    {
     "name": "stdout",
     "output_type": "stream",
     "text": [
      "5.52371901428582923188\n"
     ]
    }
   ],
   "source": [
    "numerator=np.log(432) # natural log of 432\n",
    "denominator=np.log(3) # natural log of 3\n",
    "base2ans=numerator/denominator\n",
    "print('{0:.20f}'.format(base2ans))"
   ]
  },
  {
   "cell_type": "markdown",
   "metadata": {},
   "source": [
    "Which I can check by:"
   ]
  },
  {
   "cell_type": "code",
   "execution_count": 9,
   "metadata": {},
   "outputs": [
    {
     "name": "stdout",
     "output_type": "stream",
     "text": [
      "432.00\n"
     ]
    }
   ],
   "source": [
    "base=3\n",
    "ans=5.52371901428582923188\n",
    "arg=base**ans\n",
    "print('{0:.2f}'.format(arg))"
   ]
  },
  {
   "cell_type": "markdown",
   "metadata": {},
   "source": [
    "Because:"
   ]
  },
  {
   "cell_type": "markdown",
   "metadata": {},
   "source": [
    "$$3^{5.52371901428582923188...}\\quad\\quad=432$$"
   ]
  },
  {
   "cell_type": "markdown",
   "metadata": {},
   "source": [
    "Note that for each of the foregoing examples using the base 10 log works equall well.  I just have to use the same base log for numerator AND denominator."
   ]
  },
  {
   "cell_type": "code",
   "execution_count": 10,
   "metadata": {},
   "outputs": [
    {
     "name": "stdout",
     "output_type": "stream",
     "text": [
      "6.00\n"
     ]
    }
   ],
   "source": [
    "numerator=np.log10(64) # base 10 log of 64\n",
    "denominator=np.log10(2) # base 10 log of 2\n",
    "base2ans=numerator/denominator\n",
    "print('{0:.2f}'.format(base2ans))"
   ]
  },
  {
   "cell_type": "code",
   "execution_count": 11,
   "metadata": {},
   "outputs": [
    {
     "name": "stdout",
     "output_type": "stream",
     "text": [
      "5.52371901428582923188\n"
     ]
    }
   ],
   "source": [
    "numerator=np.log10(432) # base 10 log of 432\n",
    "denominator=np.log10(3) # base 10 log of 3\n",
    "base2ans=numerator/denominator\n",
    "print('{0:.20f}'.format(base2ans))"
   ]
  },
  {
   "cell_type": "code",
   "execution_count": null,
   "metadata": {},
   "outputs": [],
   "source": []
  }
 ],
 "metadata": {
  "kernelspec": {
   "display_name": "Python 3",
   "language": "python",
   "name": "python3"
  },
  "language_info": {
   "codemirror_mode": {
    "name": "ipython",
    "version": 3
   },
   "file_extension": ".py",
   "mimetype": "text/x-python",
   "name": "python",
   "nbconvert_exporter": "python",
   "pygments_lexer": "ipython3",
   "version": "3.7.4"
  }
 },
 "nbformat": 4,
 "nbformat_minor": 4
}
