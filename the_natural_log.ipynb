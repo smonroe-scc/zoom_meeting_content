{
 "cells": [
  {
   "cell_type": "code",
   "execution_count": 1,
   "metadata": {},
   "outputs": [],
   "source": [
    "from sympy import *\n",
    "import numpy as np\n",
    "x = symbols('x')"
   ]
  },
  {
   "cell_type": "code",
   "execution_count": 2,
   "metadata": {},
   "outputs": [
    {
     "data": {
      "text/latex": [
       "$\\displaystyle e$"
      ],
      "text/plain": [
       "E"
      ]
     },
     "execution_count": 2,
     "metadata": {},
     "output_type": "execute_result"
    }
   ],
   "source": [
    "eq=(1+(1/x))**x\n",
    "expr=limit((eq),x,oo)\n",
    "expr"
   ]
  },
  {
   "cell_type": "markdown",
   "metadata": {},
   "source": [
    "$$\\lim _{n\\to \\infty }\\left(1+{\\frac {1}{n}}\\right)^{n}$$"
   ]
  },
  {
   "cell_type": "code",
   "execution_count": 3,
   "metadata": {},
   "outputs": [
    {
     "data": {
      "text/plain": [
       "2.718281828459045"
      ]
     },
     "execution_count": 3,
     "metadata": {},
     "output_type": "execute_result"
    }
   ],
   "source": [
    "expr=float(expr)\n",
    "expr"
   ]
  },
  {
   "cell_type": "markdown",
   "metadata": {},
   "source": [
    "If you think about this from the perspective of a derivative, what is being implied above is that $e^x$ always changes by exactly the amount that we have.  Recall that the derivative is $$f'(x)=\\lim_{dx \\to 0}\\frac{f(x+dx)-f(x)}{dx}$$<br><br>\n",
    "$e^x$ is really just $$1+x+\\frac{x^2}{2!}+\\frac{x^3}{3!}+\\frac{x^4}{4!}+ ...$$<brxx>\n",
    "If you take the derivative of each term you get,\n",
    "$$e^x=0+1+\\frac{2x}{2!}+\\frac{3x^2}{3!}+\\frac{4x^3}{4!}+...$$<br>\n",
    "which reduces to,\n",
    "$$e^x=1+x+\\frac{x^2}{2!}+\\frac{x^3}{3!}+\\frac{x^4}{4!}+...$$<br>\n",
    "<b>So $e^x$ acts like its own derivative.</b><br><br> \n",
    "What is the implication here? Simply this: the base for growth using the function $e$ is the unit quantity earning unit interest for unit time compounded as fast as possible."
   ]
  },
  {
   "cell_type": "markdown",
   "metadata": {},
   "source": [
    "The equation shown in line 1 of <code>In [2]:</code> converges on $2.718281828459045...$ which is the base of the natural logarithm, $e$."
   ]
  },
  {
   "cell_type": "markdown",
   "metadata": {},
   "source": [
    "Now if you don't have a background in limits or derivitives, the foregoing will not make a lot of sense, but the equation,<br><br> $$1+x+\\frac{x^2}{2!}+\\frac{x^3}{3!}+\\frac{x^4}{4!}+ ...$$<br><br> will.  Simply imagine the value of 1 inserted into the variable x. Let's recall what $2!$ or $3!$ mean.  This is the factorial function and it is defined,<br><br> $${n!=n\\times (n-1)\\times (n-2)\\times (n-3)\\times \\cdots \\times 3\\times 2\\times 1\\,.}$$<br><br>  Taking an example suppose we wanted to calculate $4!$.<br><br>$$4!= 4 \\times 3 \\times 2 \\times 1=24$$"
   ]
  },
  {
   "cell_type": "code",
   "execution_count": 4,
   "metadata": {},
   "outputs": [
    {
     "name": "stdout",
     "output_type": "stream",
     "text": [
      "2.7182818284590452011255216367278836969535858146069330362037419521518120894012649347888439864296302599\n"
     ]
    }
   ],
   "source": [
    "import decimal\n",
    "\n",
    "\n",
    "def factorial(n):\n",
    "    factorials = [1]\n",
    "    for i in range(1, n+1):\n",
    "        factorials.append(factorials[i-1]*i)\n",
    "    return factorials\n",
    "\n",
    "\n",
    "def compute_e(n):\n",
    "    decimal.getcontext().prec=n+1\n",
    "    e = 2\n",
    "    factorials = factorial(2*n+1)\n",
    "    for i in range(1, n+1):\n",
    "        counter = 2 * i+2\n",
    "        denom = factorials[2*i+1]\n",
    "        e += decimal.Decimal(counter/denom)\n",
    "    return e\n",
    "\n",
    "\n",
    "while True:\n",
    "    n = 101\n",
    "    if n >= 0 and n <= 1000:\n",
    "        break\n",
    "\n",
    "print(str(compute_e(n))[:n+1])"
   ]
  },
  {
   "cell_type": "markdown",
   "metadata": {},
   "source": [
    "Here is a plot of $log_e$: "
   ]
  },
  {
   "cell_type": "markdown",
   "metadata": {},
   "source": [
    "![Natural log plot](./e.jpg)"
   ]
  },
  {
   "cell_type": "markdown",
   "metadata": {},
   "source": [
    "Here is a plot of $log_{10}$ for comparison:"
   ]
  },
  {
   "cell_type": "markdown",
   "metadata": {},
   "source": [
    "![Base 10 log plot](./base10.jpg)"
   ]
  },
  {
   "cell_type": "markdown",
   "metadata": {},
   "source": [
    "Compare the growth (y-axis) on each."
   ]
  }
 ],
 "metadata": {
  "kernelspec": {
   "display_name": "Python 3",
   "language": "python",
   "name": "python3"
  },
  "language_info": {
   "codemirror_mode": {
    "name": "ipython",
    "version": 3
   },
   "file_extension": ".py",
   "mimetype": "text/x-python",
   "name": "python",
   "nbconvert_exporter": "python",
   "pygments_lexer": "ipython3",
   "version": "3.7.4"
  }
 },
 "nbformat": 4,
 "nbformat_minor": 2
}
